{
 "cells": [
  {
   "cell_type": "markdown",
   "metadata": {},
   "source": [
    "# 1. Matrix Multiplication\n",
    "* C= AB is only defined when the second dimension of A matches the first dimension of B\n",
    "* Further, if A is of shape(m, n) and B is of shape (n, p), then C is of shape(m,p)\n",
    "* C(ij) is computed by taking the dot product of i-th row of A with j-th column of B\n",
    "* A more useful method to think of matrix multiplication is as linear combination of columns of A weighted by column entries of B\n",
    "![alt text](pictures/matrix_multiplication_weighted.jpg \"matrix multiplication\")"
   ]
  },
  {
   "cell_type": "code",
   "execution_count": 1,
   "metadata": {},
   "outputs": [],
   "source": [
    "import numpy as np"
   ]
  },
  {
   "cell_type": "code",
   "execution_count": 3,
   "metadata": {},
   "outputs": [],
   "source": [
    "X = np.array([[4,5,7], [10, 11,13], [56,80,90]])\n",
    "Y = np.array([[40,50,70], [100,110,130], [560,800,900]])\n"
   ]
  },
  {
   "cell_type": "code",
   "execution_count": 4,
   "metadata": {},
   "outputs": [
    {
     "name": "stdout",
     "output_type": "stream",
     "text": [
      "(3, 3)\n",
      "(3, 3)\n",
      "[[ 4  5  7]\n",
      " [10 11 13]\n",
      " [56 80 90]]\n",
      "[[ 40  50  70]\n",
      " [100 110 130]\n",
      " [560 800 900]]\n"
     ]
    }
   ],
   "source": [
    "print(X.shape)\n",
    "print(Y.shape)\n",
    "\n",
    "print(X)\n",
    "print(Y)"
   ]
  },
  {
   "cell_type": "code",
   "execution_count": 5,
   "metadata": {},
   "outputs": [
    {
     "name": "stdout",
     "output_type": "stream",
     "text": [
      "[[ 4580  6350  7230]\n",
      " [ 8780 12110 13830]\n",
      " [60640 83600 95320]]\n"
     ]
    }
   ],
   "source": [
    "# To get the matrix multiplication result of the two arrays:\n",
    "prod = np.dot(X,Y)\n",
    "print(prod)"
   ]
  },
  {
   "cell_type": "markdown",
   "metadata": {},
   "source": [
    "# 2. Element Wise multiplication: Hadamard poduct\n",
    "**Notice** How numpy uses * for this. Important to be careful, and not to confuse this with matrix multiplication"
   ]
  },
  {
   "cell_type": "code",
   "execution_count": 6,
   "metadata": {},
   "outputs": [
    {
     "name": "stdout",
     "output_type": "stream",
     "text": [
      "[[ 4  5  7]\n",
      " [10 11 13]\n",
      " [56 80 90]]\n",
      "[[1. 0. 0.]\n",
      " [0. 1. 0.]\n",
      " [0. 0. 1.]]\n"
     ]
    }
   ],
   "source": [
    "X = np.array([[4,5,7], [10, 11,13], [56,80,90]])\n",
    "Y = np.eye(3)\n",
    "\n",
    "print(X)\n",
    "print(Y)"
   ]
  },
  {
   "cell_type": "code",
   "execution_count": 7,
   "metadata": {},
   "outputs": [
    {
     "name": "stdout",
     "output_type": "stream",
     "text": [
      "[[ 4.  0.  0.]\n",
      " [ 0. 11.  0.]\n",
      " [ 0.  0. 90.]]\n",
      "[[ 4.  5.  7.]\n",
      " [10. 11. 13.]\n",
      " [56. 80. 90.]]\n"
     ]
    }
   ],
   "source": [
    "# Element wise multiplication:\n",
    "print(X*Y)\n",
    "\n",
    "#VS\n",
    "# Matrix multiplication\n",
    "print(np.dot(X,Y))"
   ]
  },
  {
   "cell_type": "code",
   "execution_count": 8,
   "metadata": {},
   "outputs": [
    {
     "name": "stdout",
     "output_type": "stream",
     "text": [
      "[[3. 1. 1.]\n",
      " [1. 3. 1.]\n",
      " [1. 1. 3.]]\n"
     ]
    }
   ],
   "source": [
    "# Some more element wise operations\n",
    "Y = Y*2\n",
    "Y = Y+1\n",
    "\n",
    "print(Y)"
   ]
  },
  {
   "cell_type": "code",
   "execution_count": 9,
   "metadata": {},
   "outputs": [],
   "source": [
    "Y = Y+5"
   ]
  },
  {
   "cell_type": "code",
   "execution_count": 10,
   "metadata": {},
   "outputs": [
    {
     "name": "stdout",
     "output_type": "stream",
     "text": [
      "[[8. 6. 6.]\n",
      " [6. 8. 6.]\n",
      " [6. 6. 8.]]\n"
     ]
    }
   ],
   "source": [
    "print(Y)"
   ]
  },
  {
   "cell_type": "markdown",
   "metadata": {},
   "source": [
    "# 3. Norms\n",
    "* Norms can be thought of as a proxy for size of a vector\n",
    "![alt text](pictures/norm.jpg \"norms\")"
   ]
  },
  {
   "cell_type": "code",
   "execution_count": 3,
   "metadata": {},
   "outputs": [],
   "source": [
    "X = np.array([-5,3,10])"
   ]
  },
  {
   "cell_type": "code",
   "execution_count": 5,
   "metadata": {},
   "outputs": [
    {
     "name": "stdout",
     "output_type": "stream",
     "text": [
      "11.575836902790225\n"
     ]
    }
   ],
   "source": [
    "# Finding norm of a vector using numpy\n",
    "lp2 = np.linalg.norm(X) # By default it is treated as L2 norm and 'linalg' stands for linear algebra module\n",
    "print(lp2)\n"
   ]
  },
  {
   "cell_type": "code",
   "execution_count": 6,
   "metadata": {},
   "outputs": [
    {
     "name": "stdout",
     "output_type": "stream",
     "text": [
      "11.575836902790225\n",
      "10.0\n"
     ]
    }
   ],
   "source": [
    "# If we have to find norm of some other order like L1 or L3:\n",
    "lp1 = np.linalg.norm(X, ord = 1) # L1 norm\n",
    "\n",
    "lpinf = np.linalg.norm(X, ord = np.inf) # L(infinity) norm\n",
    "# L(infinity) norm returns the absolute value of the greates value in that vector\n",
    "\n",
    "print(lp2)\n",
    "print(lpinf)"
   ]
  },
  {
   "cell_type": "markdown",
   "metadata": {},
   "source": [
    "# 4. Determinants\n",
    "More Operations on Matrices, [click here](https://numpy.org/doc/stable/reference/routines.linalg.html)"
   ]
  },
  {
   "cell_type": "code",
   "execution_count": 3,
   "metadata": {},
   "outputs": [
    {
     "data": {
      "text/plain": [
       "-2.0000000000000004"
      ]
     },
     "execution_count": 3,
     "metadata": {},
     "output_type": "execute_result"
    }
   ],
   "source": [
    "A = np.array([[1,2],\n",
    "              [3,4]])\n",
    "\n",
    "\n",
    "np.linalg.det(A)"
   ]
  },
  {
   "cell_type": "markdown",
   "metadata": {},
   "source": [
    "# 5. Inverse\n",
    "In the following code we will implement two types of inverses,<br>\n",
    "1. **Normal Inverse:** This can only be calculated when the determinant of a matrix is non-zero and is a square matrix.\n",
    "2. **Moore-Penrose Pseudo Inverse:** This inverse can be calculated on non-zero and non-square matrices. If the matrix is invertible we get the same result as a normal inverse. For more information about this [click here](https://www.itl.nist.gov/div898/software/dataplot/refman2/auxillar/pseudinv.htm#:~:text=The%20Moore%2DPenrose%20pseudo%20inverse%20is%20a%20generalization%20of%20the,when%20A%20is%20not%20invertible.)."
   ]
  },
  {
   "cell_type": "code",
   "execution_count": 4,
   "metadata": {},
   "outputs": [
    {
     "name": "stdout",
     "output_type": "stream",
     "text": [
      "[[-2.   1. ]\n",
      " [ 1.5 -0.5]]\n",
      "[[-2.   1. ]\n",
      " [ 1.5 -0.5]]\n"
     ]
    }
   ],
   "source": [
    "A = np.array([[1,2],\n",
    "              [3,4]])\n",
    "\n",
    "Ainv = np.linalg.inv(A) # Normal Inverse\n",
    "print(Ainv)\n",
    "       \n",
    "pinv = np.linalg.pinv(A) # Pseudo Inverse\n",
    "print(pinv)"
   ]
  },
  {
   "cell_type": "code",
   "execution_count": 7,
   "metadata": {},
   "outputs": [
    {
     "name": "stdout",
     "output_type": "stream",
     "text": [
      "[[0.048 0.064]\n",
      " [0.024 0.032]]\n"
     ]
    }
   ],
   "source": [
    "B = np.array([[6,3], # Matrix with determinant = 0\n",
    "              [8,4]])\n",
    "pinv = np.linalg.pinv(B)\n",
    "print(inv)"
   ]
  },
  {
   "cell_type": "markdown",
   "metadata": {},
   "source": [
    "# 6. Solve a System of Equations\n",
    "This can we used to solve a system of linear equations, [click here](https://numpy.org/doc/stable/reference/generated/numpy.linalg.solve.html#numpy.linalg.solve) to view the function."
   ]
  },
  {
   "cell_type": "code",
   "execution_count": 8,
   "metadata": {},
   "outputs": [
    {
     "data": {
      "text/plain": [
       "array([1., 2.])"
      ]
     },
     "execution_count": 8,
     "metadata": {},
     "output_type": "execute_result"
    }
   ],
   "source": [
    "a = np.array([[2,3], [3,1]])\n",
    "b = np.array([8,5])\n",
    "\n",
    "np.linalg.solve(a,b)"
   ]
  },
  {
   "cell_type": "code",
   "execution_count": 2,
   "metadata": {},
   "outputs": [
    {
     "name": "stdout",
     "output_type": "stream",
     "text": [
      "[ 4. -2.  3.]\n"
     ]
    }
   ],
   "source": [
    "A = np.array([[2, 4, 6],\n",
    "              [4, 5, 6],\n",
    "              [3, 1, -2]])\n",
    "B = np.array([18, 24, 4])\n",
    "\n",
    "print(np.linalg.solve(A,B))"
   ]
  }
 ],
 "metadata": {
  "kernelspec": {
   "display_name": "Python 3",
   "language": "python",
   "name": "python3"
  },
  "language_info": {
   "codemirror_mode": {
    "name": "ipython",
    "version": 3
   },
   "file_extension": ".py",
   "mimetype": "text/x-python",
   "name": "python",
   "nbconvert_exporter": "python",
   "pygments_lexer": "ipython3",
   "version": "3.7.6"
  }
 },
 "nbformat": 4,
 "nbformat_minor": 2
}
