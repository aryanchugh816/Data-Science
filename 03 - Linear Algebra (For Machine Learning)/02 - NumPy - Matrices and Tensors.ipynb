{
 "cells": [
  {
   "cell_type": "markdown",
   "metadata": {},
   "source": [
    "# 1. Scalars & Vectors\n",
    "* Scalars is a single number, denoted as x\n",
    "* We can see scalars as constants/values that are use to scale a given vector\n",
    "\n",
    "* Vector is an array of scalars, denoted by x\n",
    "* * Thus a vector has n scalars x1, x2, x3 ... xn\n",
    "* * Vectors can be seen as lists (from perspective of computer science student) and as arrows\n",
    "in space (from perspective of physics student)\n",
    "* * Note that the indexing here begins with 1, unlike python."
   ]
  },
  {
   "cell_type": "code",
   "execution_count": 2,
   "metadata": {},
   "outputs": [],
   "source": [
    "import numpy as np"
   ]
  },
  {
   "cell_type": "code",
   "execution_count": 2,
   "metadata": {},
   "outputs": [
    {
     "name": "stdout",
     "output_type": "stream",
     "text": [
      "[4 5 6]\n",
      "(3,)\n"
     ]
    }
   ],
   "source": [
    "# We will represent vector as a row vector, that is having multiple columns\n",
    "x1 = np.array([4,5,6])\n",
    "print(x1)\n",
    "print(x1.shape)"
   ]
  },
  {
   "cell_type": "code",
   "execution_count": 3,
   "metadata": {},
   "outputs": [
    {
     "name": "stdout",
     "output_type": "stream",
     "text": [
      "[[4]\n",
      " [5]\n",
      " [8]]\n",
      "(3, 1)\n"
     ]
    }
   ],
   "source": [
    "# We will represent vector as a column vector, that is having multiple rows\n",
    "x = np.array([[4], [5], [8]])\n",
    "print(x)\n",
    "print(x.shape)"
   ]
  },
  {
   "cell_type": "code",
   "execution_count": 4,
   "metadata": {},
   "outputs": [
    {
     "name": "stdout",
     "output_type": "stream",
     "text": [
      "[[4]\n",
      " [5]\n",
      " [6]]\n"
     ]
    }
   ],
   "source": [
    "# Can also represent x1 as column vetor by:\n",
    "print(x1.reshape(3,1))"
   ]
  },
  {
   "cell_type": "code",
   "execution_count": 5,
   "metadata": {},
   "outputs": [
    {
     "name": "stdout",
     "output_type": "stream",
     "text": [
      "4\n",
      "[4]\n"
     ]
    }
   ],
   "source": [
    "# There is a change in how we access elements using indexing in row and column vector\n",
    "\n",
    "# In row vector we, it returns an element as there is only one row (as by shape it has only 1 dimension)\n",
    "print(x1[0])\n",
    "\n",
    "# In column vector it returns the whole first row (this is treated as 2 dimentional matrix)\n",
    "print(x[0])"
   ]
  },
  {
   "cell_type": "markdown",
   "metadata": {},
   "source": [
    "# 2. Matrices & Tensors\n",
    "* Matrix is a 2D array of scalars, denoted by X(italics)\n",
    "![alt text](pictures/Matrices.jpg \"Matrix\")\n",
    "* * This matrix has 2(m) rows and 2(n) columns\n",
    "* * Each individual element of this matrix is a scalar\n",
    "* * if m = n, then matrix is known as Square matrix\n",
    "\n",
    "* Tensor is an array with more than 2 axes, denoted by X\n",
    "#![alt text](pictures/tensors1.jpg \"Tensor1\")\n",
    "* * Think of Tensor as a generalization of an array with more than 2 axes\n",
    "* * We can see tensors as more than one (m x n) matrices stacked in layers one beneath \n",
    "the other\n",
    "![alt text](pictures/tensors2.jpg \"Tensor2\")\n",
    "* * Are very useful in deep learning and neural networks"
   ]
  },
  {
   "cell_type": "code",
   "execution_count": 3,
   "metadata": {},
   "outputs": [
    {
     "name": "stdout",
     "output_type": "stream",
     "text": [
      "(3, 3)\n",
      "[[ 4  5  7]\n",
      " [10 11 13]\n",
      " [56 80 90]]\n"
     ]
    }
   ],
   "source": [
    "# Here X is a matrix\n",
    "X = np.array([[4,5,7], [10,11,13], [56,80,90]]) # This is a 3x3 matrix\n",
    "print(X.shape)\n",
    "print(X)"
   ]
  },
  {
   "cell_type": "code",
   "execution_count": 7,
   "metadata": {},
   "outputs": [
    {
     "name": "stdout",
     "output_type": "stream",
     "text": [
      "(2, 2, 3)\n",
      "[[[ 4  5  7]\n",
      "  [10 11 13]]\n",
      "\n",
      " [[56 80 90]\n",
      "  [ 9  8 10]]]\n"
     ]
    }
   ],
   "source": [
    "# Here T is a Tensor\n",
    "T = np.array([[[4,5,7], [10,11,13]], [[56,80,90], [9,8,10]]])\n",
    "\n",
    "print(T.shape)\n",
    "print(T)"
   ]
  },
  {
   "cell_type": "code",
   "execution_count": 8,
   "metadata": {},
   "outputs": [],
   "source": [
    "# Here there are 3 layered 2x2 matrices\n",
    "# matrix 1: 4 10\n",
    "#           56 9\n",
    "\n",
    "# matrix 2: 5 11\n",
    "#           80 8\n",
    "\n",
    "# matrix 3: 7 13\n",
    "#           90 10\n",
    "\n",
    "# they are all stacked together in three layers"
   ]
  },
  {
   "cell_type": "markdown",
   "metadata": {},
   "source": [
    "# 3. Transpose\n",
    "* For a 2D matrix transpose can be obtained by A(i,j) = A(j,i)\n",
    "* Its like taking a mirror image along the diagonal\n",
    "* For a vector transpose makes a column vector into a row. Thus a column vector can also be represented as X = [x1, x2, x3 ... xn]^T."
   ]
  },
  {
   "cell_type": "code",
   "execution_count": 6,
   "metadata": {},
   "outputs": [
    {
     "name": "stdout",
     "output_type": "stream",
     "text": [
      "[[ 4  5  7]\n",
      " [10 11 13]\n",
      " [56 80 90]]\n",
      "[[ 4 10 56]\n",
      " [ 5 11 80]\n",
      " [ 7 13 90]]\n"
     ]
    }
   ],
   "source": [
    "# Transpose of x:\n",
    "print(X)\n",
    "Xt = np.transpose(X)\n",
    "print(Xt)"
   ]
  },
  {
   "cell_type": "code",
   "execution_count": 13,
   "metadata": {},
   "outputs": [
    {
     "name": "stdout",
     "output_type": "stream",
     "text": [
      "[[4]\n",
      " [5]\n",
      " [8]]\n",
      "[[4 5 8]]\n",
      "(1, 3)\n"
     ]
    }
   ],
   "source": [
    "# transpose by manual method\n",
    "y = x.reshape((-1,1))\n",
    "print(y)\n",
    "print(np.transpose(y))\n",
    "print(np.transpose(y).shape)"
   ]
  },
  {
   "cell_type": "markdown",
   "metadata": {},
   "source": [
    "# 4. Broadcasting\n",
    "* You can add a scalar to a vector, and numpy will add it to each element in the vector\n",
    "* Similarly you can add a vector to a matrix, and numpy will add the vector to each column/row of the matrix accordingly\n",
    "* **It is easier to perform these simple operations involving scalars to each element of list in numpy arrays as it treats everything as a vector/matrix and is very difficult using normal python list**"
   ]
  },
  {
   "cell_type": "code",
   "execution_count": 8,
   "metadata": {},
   "outputs": [
    {
     "name": "stdout",
     "output_type": "stream",
     "text": [
      "[2 3 4 5]\n"
     ]
    }
   ],
   "source": [
    "l1 = np.array([1,2,3,4])\n",
    "l1 = l1 + 1 # Broadcasting operation\n",
    "print(l1)"
   ]
  },
  {
   "cell_type": "code",
   "execution_count": 4,
   "metadata": {},
   "outputs": [
    {
     "ename": "TypeError",
     "evalue": "can only concatenate list (not \"int\") to list",
     "output_type": "error",
     "traceback": [
      "\u001b[1;31m---------------------------------------------------------------------------\u001b[0m",
      "\u001b[1;31mTypeError\u001b[0m                                 Traceback (most recent call last)",
      "\u001b[1;32m<ipython-input-4-326a2c47620c>\u001b[0m in \u001b[0;36m<module>\u001b[1;34m()\u001b[0m\n\u001b[0;32m      1\u001b[0m \u001b[1;31m# Trying to perform the same operation on a normal python list\u001b[0m\u001b[1;33m\u001b[0m\u001b[1;33m\u001b[0m\u001b[0m\n\u001b[0;32m      2\u001b[0m \u001b[0ml2\u001b[0m \u001b[1;33m=\u001b[0m \u001b[1;33m[\u001b[0m\u001b[1;36m1\u001b[0m\u001b[1;33m,\u001b[0m\u001b[1;36m2\u001b[0m\u001b[1;33m,\u001b[0m\u001b[1;36m3\u001b[0m\u001b[1;33m,\u001b[0m\u001b[1;36m4\u001b[0m\u001b[1;33m]\u001b[0m\u001b[1;33m\u001b[0m\u001b[0m\n\u001b[1;32m----> 3\u001b[1;33m \u001b[0ml2\u001b[0m \u001b[1;33m=\u001b[0m \u001b[0ml2\u001b[0m \u001b[1;33m+\u001b[0m \u001b[1;36m1\u001b[0m\u001b[1;33m\u001b[0m\u001b[0m\n\u001b[0m\u001b[0;32m      4\u001b[0m \u001b[0mprint\u001b[0m\u001b[1;33m(\u001b[0m\u001b[0ml2\u001b[0m\u001b[1;33m)\u001b[0m\u001b[1;33m\u001b[0m\u001b[0m\n\u001b[0;32m      5\u001b[0m \u001b[1;33m\u001b[0m\u001b[0m\n",
      "\u001b[1;31mTypeError\u001b[0m: can only concatenate list (not \"int\") to list"
     ]
    }
   ],
   "source": [
    "# Trying to perform the same operation on a normal python list\n",
    "l2 = [1,2,3,4]\n",
    "l2 = l2 + 1\n",
    "print(l2)\n",
    "\n",
    "# This returns an error as no mathematical operations are allowed directly on python lists as a whole"
   ]
  },
  {
   "cell_type": "code",
   "execution_count": 7,
   "metadata": {},
   "outputs": [
    {
     "name": "stdout",
     "output_type": "stream",
     "text": [
      "[2, 3, 4, 5]\n"
     ]
    }
   ],
   "source": [
    "# Repeating the same but by forming a mathematical function\n",
    "l2 = [1,2,3,4]\n",
    "l2 = list(map(lambda x: x+1, l2))\n",
    "print(l2)\n",
    "\n",
    "# Now we can see that we can perform this operation in a much simpler way if using numpy arrays"
   ]
  },
  {
   "cell_type": "code",
   "execution_count": 9,
   "metadata": {},
   "outputs": [
    {
     "name": "stdout",
     "output_type": "stream",
     "text": [
      "[[1 2 3 4]\n",
      " [5 6 7 8]]\n",
      "[[ 1  4  9 16]\n",
      " [25 36 49 64]]\n"
     ]
    }
   ],
   "source": [
    "# We can perform broadcasting operations on  matrix too\n",
    "l = np.array([[1,2,3,4], [5,6,7,8]])\n",
    "print(l)\n",
    "l = l**2\n",
    "print(l)\n"
   ]
  },
  {
   "cell_type": "code",
   "execution_count": 11,
   "metadata": {},
   "outputs": [
    {
     "data": {
      "text/plain": [
       "array([[1., 2., 3., 4.],\n",
       "       [5., 6., 7., 8.]])"
      ]
     },
     "execution_count": 11,
     "metadata": {},
     "output_type": "execute_result"
    }
   ],
   "source": [
    "np.sqrt(l, dtype='float64')"
   ]
  }
 ],
 "metadata": {
  "kernelspec": {
   "display_name": "Python 3",
   "language": "python",
   "name": "python3"
  },
  "language_info": {
   "codemirror_mode": {
    "name": "ipython",
    "version": 3
   },
   "file_extension": ".py",
   "mimetype": "text/x-python",
   "name": "python",
   "nbconvert_exporter": "python",
   "pygments_lexer": "ipython3",
   "version": "3.7.6"
  }
 },
 "nbformat": 4,
 "nbformat_minor": 2
}
