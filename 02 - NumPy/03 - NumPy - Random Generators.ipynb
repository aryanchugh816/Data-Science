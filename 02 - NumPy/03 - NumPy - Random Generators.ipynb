{
 "cells": [
  {
   "cell_type": "markdown",
   "metadata": {},
   "source": [
    "# NumPy Random Module\n",
    "* rand: Random values in a given shape\n",
    "* randn: Return a sample(or samples) from the \"standard normal\" distribution\n",
    "* randint: Return random integers from low(inclusive) to high(exclusive)\n",
    "* random: Return random floats in the half-open interval \\[0.0, 1.0)\n",
    "* choice: Generates a random sample from a given 1-D array\n",
    "* Shuffle: shuffles the contents of a sequence"
   ]
  },
  {
   "cell_type": "code",
   "execution_count": 1,
   "metadata": {},
   "outputs": [],
   "source": [
    "import numpy as np"
   ]
  },
  {
   "cell_type": "code",
   "execution_count": 9,
   "metadata": {},
   "outputs": [
    {
     "name": "stdout",
     "output_type": "stream",
     "text": [
      "[ 5  6  7  8  9 10 11 12 13 14]\n"
     ]
    }
   ],
   "source": [
    "a = np.arange(10) + 5\n",
    "print(a)"
   ]
  },
  {
   "cell_type": "code",
   "execution_count": 10,
   "metadata": {},
   "outputs": [
    {
     "name": "stdout",
     "output_type": "stream",
     "text": [
      "[ 9  5 13  6 14 12  7 11  8 10]\n"
     ]
    }
   ],
   "source": [
    "# To shuffle the elements of array\n",
    "np.random.shuffle(a)\n",
    "print(a)"
   ]
  },
  {
   "cell_type": "markdown",
   "metadata": {},
   "source": [
    "### Generating Random numbers"
   ]
  },
  {
   "cell_type": "code",
   "execution_count": 11,
   "metadata": {},
   "outputs": [
    {
     "name": "stdout",
     "output_type": "stream",
     "text": [
      "[[0.73243419 0.91606554 0.65565111]\n",
      " [0.01019956 0.58200298 0.36364682]]\n"
     ]
    }
   ],
   "source": [
    "# Generate a mxn matrix of random floats in range [0,1)\n",
    "a = np.random.rand(2,3) # No need to give size as tuple\n",
    "print(a)"
   ]
  },
  {
   "cell_type": "code",
   "execution_count": 12,
   "metadata": {},
   "outputs": [
    {
     "name": "stdout",
     "output_type": "stream",
     "text": [
      "[[ 1.0275266  -0.51485389  0.02889368]\n",
      " [-0.30376467  0.52435418  0.14559567]]\n"
     ]
    }
   ],
   "source": [
    "# Generates a mxn matrix of random floats from standard normal distribution\n",
    "a = np.random.randn(2,3)\n",
    "print(a)"
   ]
  },
  {
   "cell_type": "code",
   "execution_count": 13,
   "metadata": {},
   "outputs": [
    {
     "name": "stdout",
     "output_type": "stream",
     "text": [
      "[9 5 8]\n"
     ]
    }
   ],
   "source": [
    "# This returns n random integers from the given range [low, high)\n",
    "a = np.random.randint(5,10,3)\n",
    "print(a)"
   ]
  },
  {
   "cell_type": "code",
   "execution_count": 16,
   "metadata": {},
   "outputs": [
    {
     "name": "stdout",
     "output_type": "stream",
     "text": [
      "[[ 2 11  7]\n",
      " [10  9 10]\n",
      " [ 5  4  7]]\n"
     ]
    }
   ],
   "source": [
    "a = np.random.randint(2,12,(3,3))\n",
    "print(a)"
   ]
  },
  {
   "cell_type": "code",
   "execution_count": 18,
   "metadata": {},
   "outputs": [
    {
     "name": "stdout",
     "output_type": "stream",
     "text": [
      "9\n"
     ]
    }
   ],
   "source": [
    "# Randomly picks an element from any array\n",
    "element = np.random.choice([1,4,6,23,9,34]) # Can take only 1D arrays\n",
    "print(element)"
   ]
  },
  {
   "cell_type": "markdown",
   "metadata": {},
   "source": [
    "### Seeding in pseudo random number generators"
   ]
  },
  {
   "cell_type": "code",
   "execution_count": null,
   "metadata": {},
   "outputs": [],
   "source": [
    "'''Seeding is imp as the random number generators use same number once initiated to \n",
    "generate all random arrays or matrices'''\n",
    "\n",
    "'''By manually ensuring the seed for these generators you can generate the same random values\n",
    "each and every time'''"
   ]
  },
  {
   "cell_type": "code",
   "execution_count": 2,
   "metadata": {},
   "outputs": [
    {
     "name": "stdout",
     "output_type": "stream",
     "text": [
      "34\n"
     ]
    }
   ],
   "source": [
    "# How to give seed value\n",
    "np.random.seed(1)\n",
    "element = np.random.choice([1,4,6,23,9,34]) # Can take only 1D arrays\n",
    "print(element)"
   ]
  }
 ],
 "metadata": {
  "kernelspec": {
   "display_name": "Python 3",
   "language": "python",
   "name": "python3"
  },
  "language_info": {
   "codemirror_mode": {
    "name": "ipython",
    "version": 3
   },
   "file_extension": ".py",
   "mimetype": "text/x-python",
   "name": "python",
   "nbconvert_exporter": "python",
   "pygments_lexer": "ipython3",
   "version": "3.7.6"
  }
 },
 "nbformat": 4,
 "nbformat_minor": 2
}
