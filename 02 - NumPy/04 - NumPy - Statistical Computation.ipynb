{
 "cells": [
  {
   "cell_type": "markdown",
   "metadata": {},
   "source": [
    "# Statistical NumPy Functions\n",
    "* min, max\n",
    "* mean\n",
    "* median\n",
    "* average\n",
    "* variance\n",
    "* standard deviation"
   ]
  },
  {
   "cell_type": "code",
   "execution_count": 2,
   "metadata": {},
   "outputs": [],
   "source": [
    "import numpy as np"
   ]
  },
  {
   "cell_type": "code",
   "execution_count": 3,
   "metadata": {},
   "outputs": [
    {
     "name": "stdout",
     "output_type": "stream",
     "text": [
      "[[1 2 3 4]\n",
      " [7 6 2 0]]\n",
      "0\n"
     ]
    }
   ],
   "source": [
    "a = np.array([[1,2,3,4], [7,6,2,0]])\n",
    "print(a)\n",
    "\n",
    "# To get minimum element of an array\n",
    "print(np.min(a))"
   ]
  },
  {
   "cell_type": "code",
   "execution_count": 5,
   "metadata": {},
   "outputs": [
    {
     "name": "stdout",
     "output_type": "stream",
     "text": [
      "[[1 2 3 4]\n",
      " [7 6 2 0]]\n",
      "[1 2 2 0]\n"
     ]
    }
   ],
   "source": [
    "# To get minimum elements in each column\n",
    "print(a)\n",
    "print(np.min(a, axis = 0))"
   ]
  },
  {
   "cell_type": "code",
   "execution_count": 6,
   "metadata": {},
   "outputs": [
    {
     "name": "stdout",
     "output_type": "stream",
     "text": [
      "[[1 2 3 4]\n",
      " [7 6 2 0]]\n",
      "[1 0]\n"
     ]
    }
   ],
   "source": [
    "# To get minimum elements in each row\n",
    "print(a)\n",
    "print(np.min(a, axis = 1))"
   ]
  },
  {
   "cell_type": "markdown",
   "metadata": {},
   "source": [
    "### Mean: Average of all the elements"
   ]
  },
  {
   "cell_type": "code",
   "execution_count": 7,
   "metadata": {},
   "outputs": [
    {
     "name": "stdout",
     "output_type": "stream",
     "text": [
      "3.0\n",
      "3.0\n"
     ]
    }
   ],
   "source": [
    "b = np.array([1,2,3,4,5])\n",
    "\n",
    "# Calculating mean by formula\n",
    "n = sum(b/len(b))\n",
    "print(n)\n",
    "\n",
    "# Calculating mean directly\n",
    "print(np.mean(b))"
   ]
  },
  {
   "cell_type": "code",
   "execution_count": 9,
   "metadata": {},
   "outputs": [
    {
     "name": "stdout",
     "output_type": "stream",
     "text": [
      "[[1 2 3 4]\n",
      " [7 6 2 0]]\n",
      "[4.  4.  2.5 2. ]\n",
      "[2.5  3.75]\n"
     ]
    }
   ],
   "source": [
    "print(a)\n",
    "\n",
    "# Mean along column\n",
    "print(np.mean(a, axis=0))\n",
    "\n",
    "# Mean along row\n",
    "print(np.mean(a, axis=1))"
   ]
  },
  {
   "cell_type": "markdown",
   "metadata": {},
   "source": [
    "### Median: Middlemost value"
   ]
  },
  {
   "cell_type": "code",
   "execution_count": 10,
   "metadata": {},
   "outputs": [
    {
     "name": "stdout",
     "output_type": "stream",
     "text": [
      "2.0\n"
     ]
    }
   ],
   "source": [
    "c = np.array([1,5,4,2,0])\n",
    "print(np.median(c))"
   ]
  },
  {
   "cell_type": "code",
   "execution_count": 12,
   "metadata": {},
   "outputs": [
    {
     "name": "stdout",
     "output_type": "stream",
     "text": [
      "[4.  4.  2.5 2. ]\n",
      "[2.5  3.75]\n"
     ]
    }
   ],
   "source": [
    "# Mean: column and row wise\n",
    "print(np.mean(a, axis = 0))\n",
    "print(np.mean(a, axis = 1))"
   ]
  },
  {
   "cell_type": "markdown",
   "metadata": {},
   "source": [
    "### Mean vs Average\n",
    "* Mean is simply the sum of elements divided by total number of elements\n",
    "* Average is the same but it is or can be weighted if we want it to be<br>\n",
    "by weighted we mean that there is a weight assigned to each element which is multiplied\n",
    "to its respective element when computing average and then divided by total number of elements\n",
    "* Mean is simple and can never be weighted"
   ]
  },
  {
   "cell_type": "code",
   "execution_count": 13,
   "metadata": {},
   "outputs": [
    {
     "name": "stdout",
     "output_type": "stream",
     "text": [
      "2.4\n",
      "2.4\n",
      "2.066666666666667\n"
     ]
    }
   ],
   "source": [
    "# Mean\n",
    "print(np.mean(c))\n",
    "\n",
    "# Average: Simple\n",
    "print(np.average(c))\n",
    "\n",
    "# Average: Weighted\n",
    "w = np.array([1,2,3,4,5])\n",
    "print(np.average(c, weights=w))"
   ]
  },
  {
   "cell_type": "markdown",
   "metadata": {},
   "source": [
    "### Standard Deviation\n",
    "* This is the total deviation of all the values from the mean or average value\n",
    "* Formula: sqrt(summation((x - mean)^2)/N)\n",
    "* Variance = square of standard deviation\n",
    "* We squared the difference of each  value and mean '(x-u)' because it eliminates the error of minus sign or of absolute value"
   ]
  },
  {
   "cell_type": "code",
   "execution_count": 14,
   "metadata": {},
   "outputs": [
    {
     "name": "stdout",
     "output_type": "stream",
     "text": [
      "1.854723699099141\n",
      "1.854723699099141\n"
     ]
    }
   ],
   "source": [
    "# Standard Deviation by building our own formula\n",
    "u = np.mean(c)\n",
    "mystd = np.sqrt(np.mean(abs(c-u)**2))\n",
    "print(mystd)\n",
    "\n",
    "# Standard Deviation by inbuilt formula\n",
    "std = np.std(c)\n",
    "print(std)\n",
    "\n",
    "# We will obtain the same value"
   ]
  },
  {
   "cell_type": "code",
   "execution_count": 15,
   "metadata": {},
   "outputs": [
    {
     "name": "stdout",
     "output_type": "stream",
     "text": [
      "3.440000000000001\n",
      "3.4400000000000004\n"
     ]
    }
   ],
   "source": [
    "# Variance:\n",
    "print(std**2)\n",
    "print(np.var(c))"
   ]
  }
 ],
 "metadata": {
  "kernelspec": {
   "display_name": "Python 3",
   "language": "python",
   "name": "python3"
  },
  "language_info": {
   "codemirror_mode": {
    "name": "ipython",
    "version": 3
   },
   "file_extension": ".py",
   "mimetype": "text/x-python",
   "name": "python",
   "nbconvert_exporter": "python",
   "pygments_lexer": "ipython3",
   "version": "3.7.6"
  }
 },
 "nbformat": 4,
 "nbformat_minor": 2
}
